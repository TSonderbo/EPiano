{
 "cells": [
  {
   "cell_type": "markdown",
   "metadata": {},
   "source": [
    "# Imports"
   ]
  },
  {
   "cell_type": "code",
   "execution_count": null,
   "metadata": {},
   "outputs": [],
   "source": [
    "import scipy as sp\n",
    "from scipy.linalg import toeplitz\n",
    "import numpy as np\n",
    "import math\n",
    "import matplotlib.pyplot as plt"
   ]
  },
  {
   "cell_type": "markdown",
   "metadata": {},
   "source": [
    "# Energy Analysis\n",
    "Equation numbers wrapped in parenthesis refer to Emulated Ensemble.\n",
    "\n",
    "Equation numbers wrapped in brackets refer to Numerical Sound Synthesis"
   ]
  },
  {
   "cell_type": "markdown",
   "metadata": {},
   "source": [
    "## Mass Spring system"
   ]
  },
  {
   "cell_type": "code",
   "execution_count": null,
   "metadata": {},
   "outputs": [],
   "source": []
  },
  {
   "cell_type": "markdown",
   "metadata": {},
   "source": [
    "## Ideal Bar (Euler Bernoulli Beam)"
   ]
  },
  {
   "cell_type": "markdown",
   "metadata": {},
   "source": [
    "$\\delta_{tt}u_l^n = -\\kappa^2 \\delta_{xxxx}u_l^n - 2\\sigma_0 \\delta_{t\\cdot}u_l^n + 2\\sigma_1 \\delta_{t-}\\delta_{xx}u_l^n$\n",
    "\n",
    "$\\frac{1}{k^2}(u_l^{n+1} - 2u_l^n + u_l^n{-1}) = \\frac{\\kappa^2}{h^4}(u_{l+2}^n-4u_{l+1}^n + 6u_l^n - 4u_{l-1}^n + u_{l-2}^n) - \\frac{2\\sigma_0}{2k}(u_l^{n+1} - u_l^{n-1}) + \\frac{2\\sigma_1}{kh^2}(u_{l+1}^n-2u_l^n+u_{l-1}^n-u_{l+1}^{n-1}+2u_l^{n-1}+u_{l-1}^{n-1})$\n",
    "\n",
    "$u_l^{n+1} - 2u_l^n + u_l^n{-1} = \\frac{\\kappa^2k^2}{h^4}(u_{l+2}^n-4u_{l+1}^n + 6u_l^n - 4u_{l-1}^n + u_{l-2}^n) - 2\\sigma_0 \\frac{k}{2}(u_l^{n+1} - u_l^{n-1}) + \\frac{2\\sigma_1 k}{h^2}(u_{l+1}^n-2u_l^n+u_{l-1}^n-u_{l+1}^{n-1}+2u_l^{n-1}+u_{l-1}^{n-1})$\n",
    "\n",
    "$u_l^{n+1} = \\frac{\\kappa^2k^2}{h^4}(u_{l+2}^n-4u_{l+1}^n + 6u_l^n - 4u_{l-1}^n + u_{l-2}^n) - \\sigma_0 k(u_l^{n+1} - u_l^{n-1}) + \\frac{2\\sigma_1 k}{h^2}(u_{l+1}^n-2u_l^n+u_{l-1}^n-u_{l+1}^{n-1}+2u_l^{n-1}+u_{l-1}^{n-1}) + 2u_l^n - u_l^{n-1}$\n",
    "\n",
    "$(1+\\sigma_0 k)u_l^{n+1} = \\mu^2(u_{l+2}^n-4*u_{l+1}^n + 6u_l^n - 4u_l{l-1}^n + u_{l-2}^n) - \\sigma_0 k(- u_l^n{-1}) + \\frac{2\\sigma_1 k}{h^2}(u_{l+1}^n-2u_l^n+u_{l-1}^n-u_{l+1}^{n-1}+2u_l^{n-1}+u_{l-1}^{n-1}) + 2u_l^n - u_l^{n-1}$\n",
    "\n",
    "collecting terms\n",
    "\n",
    "$(1+\\sigma_0 k)u_l^{n+1} = \\Big(2 - 6\\mu^2 - \\frac{4\\sigma_1 k}{h^2} \\Big) u_l^n + \\Big( 4\\mu^2 + \\frac{2\\sigma k}{h^2} \\Big) (u_{l+1}^n + u_{l-1}^n) - \\mu^2(u_{l+2}^n + u_{l-2}^n) + \\Big(-1 + \\sigma_0 k + \\frac{4\\sigma_1 k}{h^2} \\Big) u_l^{n-1} - \\frac{2\\sigma_1 k}{h^2} (u_{l+1}^{n-1} + u_{l-1}^{n-1})$\n",
    "\n",
    "with\n",
    "\n",
    "$\\kappa = \\sqrt{\\frac{EI}{\\rho A}} \\quad$ and $\\quad \\mu = \\frac{\\kappa k}{h^2}$ "
   ]
  },
  {
   "cell_type": "markdown",
   "metadata": {},
   "source": [
    "### Von Neumann Analysis"
   ]
  },
  {
   "cell_type": "markdown",
   "metadata": {},
   "source": [
    "Using the definitions for spatial and temporal operators found in (eq. 3.23 and 3.22) we can obtain a frequency domain representation of the scheme\n",
    "\n",
    "$ \\frac{1}{k^2}(z-2+z^{-1}) = - \\frac{16\\kappa^2}{h^4}sin^4(\\beta h / 2) - \\frac{2\\sigma_0}{2k}(z-z^{-1}) + 2\\frac{\\sigma_1}{k}(1-z^{-1}) (-\\frac{4}{h^2}sin^2(\\beta h/2)) $\n",
    "\n",
    "$ \\frac{1}{k^2}(z-2+z^{-1}) = - \\frac{16\\kappa^2}{h^4}sin^4(\\beta h / 2) - \\frac{\\sigma_0}{k}z + \\frac{\\sigma_0}{k}z^{-1} - \\frac{8\\sigma_1}{kh^2}sin^2(\\beta h/2) + \\frac{8\\sigma_1}{kh^2}sin^2(\\beta h /2)z^{-1} $"
   ]
  },
  {
   "cell_type": "markdown",
   "metadata": {},
   "source": [
    "Rewrite equation\n",
    "\n",
    "$ 0 = \\frac{1}{k^2}(z-2+z^{-1}) + \\frac{16\\kappa^2}{h^4}sin^4(\\beta h / 2) + \\frac{\\sigma_0}{k}z - \\frac{\\sigma_0}{k}z^{-1} + \\frac{8\\sigma_1}{kh^2}sin^2(\\beta h/2) - \\frac{8\\sigma_1}{kh^2}sin^2(\\beta h /2)z^{-1}$"
   ]
  },
  {
   "cell_type": "markdown",
   "metadata": {},
   "source": [
    "Multiply all terms by $k^2$\n",
    "\n",
    "$ 0 = z-2+z^{-1} + \\frac{16\\kappa^2k^2}{h^4}sin^4(\\beta h / 2) + (\\sigma_0 k)z - (\\sigma_0 k)z^{-1} + \\frac{8\\sigma_1 k}{h^2}sin^2(\\beta h/2) - \\frac{8\\sigma_1 k}{h^2}sin^2(\\beta h /2)z^{-1}$"
   ]
  },
  {
   "cell_type": "markdown",
   "metadata": {},
   "source": [
    "Collect terms to form characteristic equation\n",
    "\n",
    "$ 0 = (1 + \\sigma_0 k)z + (\\frac{16\\kappa^2k^2}{h^4}sin^4(\\beta h / 2) + \\frac{8\\sigma_1 k}{h^2}sin^2(\\beta h/2) - 2) + (1 - \\sigma_0 k - \\frac{8\\sigma_1 k}{h^2}sin^2(\\beta h/2))z^{-1}$"
   ]
  },
  {
   "cell_type": "markdown",
   "metadata": {},
   "source": [
    "Divide by the term containing $\\sigma_0$ and multiply by $z$ to get the equation as a second-order polynomial.\n",
    "Using $\\mathcal{S}=sin^2(\\beta h/2)$ for brevity.\n",
    "\n",
    "$ 0 = z^2 + \\Big( \\frac{\\frac{16\\kappa^2k^2}{h^4}\\mathcal{S}^2 + \\frac{8\\sigma_1 k}{h^2}\\mathcal{S} - 2}{1+\\sigma_0k} \\Big)z + \\frac{1 - \\sigma_0 k - \\frac{8\\sigma_1 k}{h^2}\\mathcal{S}}{1+\\sigma_0k} $"
   ]
  },
  {
   "cell_type": "markdown",
   "metadata": {},
   "source": [
    "Substituting the coefficients into (eq. 3.26) lets us determine the stability condition.\n",
    "\n",
    "$ \\Big| \\Big( \\frac{\\frac{16\\kappa^2k^2}{h^4}\\mathcal{S}^2 + \\frac{8\\sigma_1 k}{h^2}\\mathcal{S} - 2}{1+\\sigma_0k} \\Big) \\Big| - 1 \\leq \\frac{1 - \\sigma_0 k - \\frac{8\\sigma_1 k}{h^2}\\mathcal{S}}{1+\\sigma_0k} \\leq 1$"
   ]
  },
  {
   "cell_type": "markdown",
   "metadata": {},
   "source": [
    "Multiplying by $(1+\\sigma_0k)$\n",
    "\n",
    "$ \\Big| \\frac{16\\kappa^2k^2}{h^4}\\mathcal{S}^2 + \\frac{8\\sigma_1 k}{h^2}\\mathcal{S} - 2 \\Big| - 1+\\sigma_0k \\leq 1 - \\sigma_0 k - \\frac{8\\sigma_1 k}{h^2}\\mathcal{S} \\leq 1+\\sigma_0k$"
   ]
  },
  {
   "cell_type": "markdown",
   "metadata": {},
   "source": [
    "Adding $1+\\sigma_0k$\n",
    "\n",
    "$ \\Big| \\frac{16\\kappa^2k^2}{h^4}\\mathcal{S}^2 + \\frac{8\\sigma_1 k}{h^2}\\mathcal{S} - 2  \\Big| \\leq 2 - \\frac{8\\sigma_1 k}{h^2}\\mathcal{S} \\leq 2+ 2\\sigma_0k$"
   ]
  },
  {
   "cell_type": "markdown",
   "metadata": {},
   "source": [
    "The second condition will always hold as $\\sigma_0, \\sigma_1 \\geq 0$. We can then rewrite the previous equation as\n",
    "\n",
    "$ 2 - \\frac{8\\sigma_1 k}{h^2}\\mathcal{S} \\leq \\frac{16\\kappa^2k^2}{h^4}\\mathcal{S}^2 + \\frac{8\\sigma_1 k}{h^2}\\mathcal{S} - 2 \\leq 2 - \\frac{8\\sigma_1 k}{h^2}\\mathcal{S} $"
   ]
  },
  {
   "cell_type": "markdown",
   "metadata": {},
   "source": [
    "Adding $ 2 - \\frac{8\\sigma_1 k}{h^2}\\mathcal{S} $\n",
    "\n",
    "$ 0 \\leq \\frac{16\\kappa^2k^2}{h^4}\\mathcal{S}^2 \\leq 4 - \\frac{16\\sigma_1 k}{h^2}\\mathcal{S}$"
   ]
  },
  {
   "cell_type": "markdown",
   "metadata": {},
   "source": [
    "$\\frac{16\\kappa^2k^2}{h^4}\\mathcal{S}^2$ is non negative, so the first condition is satisfied.\n",
    "\n",
    "Adding $\\frac{16\\sigma_1 k}{h^2}\\mathcal{S}$\n",
    "\n",
    "$ \\frac{16\\kappa^2k^2}{h^4}\\mathcal{S}^2 + \\frac{16\\sigma_1 k}{h^2}\\mathcal{S} \\leq 4 $"
   ]
  },
  {
   "cell_type": "markdown",
   "metadata": {},
   "source": [
    "Dividing by 4\n",
    "\n",
    "$ \\frac{4\\kappa^2k^2}{h^4}\\mathcal{S}^2 + \\frac{4\\sigma_1 k}{h^2}\\mathcal{S} \\leq 1 $"
   ]
  },
  {
   "cell_type": "markdown",
   "metadata": {},
   "source": [
    "As the previous equation takes its maximum value when $\\mathcal{S} = 1$ it can be rewritten as\n",
    "\n",
    "$ \\frac{4\\kappa^2k^2}{h^4} + \\frac{4\\sigma_1 k}{h^2} \\leq 1 $"
   ]
  },
  {
   "cell_type": "markdown",
   "metadata": {},
   "source": [
    "Multiply by $h^4$\n",
    "\n",
    "$ 4\\kappa^2k^2 + 4\\sigma_1 k h^2 \\leq h^4 $\n",
    "\n",
    "Add left side to right to form quadratic equation in $h^2$\n",
    "\n",
    "$ h^4 + 4\\sigma_1 k h^2 4\\kappa^2k^2 \\geq 0 $"
   ]
  },
  {
   "cell_type": "markdown",
   "metadata": {},
   "source": [
    "Then using the quadratic formula $h$ can be shown to be bound by\n",
    "\n",
    "$ h \\geq \\sqrt{\\frac{-4\\sigma_1 k + \\sqrt{(-4\\sigma_1 k)^2  16\\kappa^2k^2}}{2}}$"
   ]
  },
  {
   "cell_type": "markdown",
   "metadata": {},
   "source": [
    "### Energy Analysis\n",
    "Ideal bar (damped) equation with physical parameters written out (by dividing with $\\rho A$ on both sides)       \n",
    "$\\rho A \\delta_{tt}u_l^n = -EI\\delta_{xxxx}u_l^n - 2\\sigma_0 \\rho A \\delta_{t\\cdot}u_l^n + 2\\sigma_1 \\rho A \\delta_{t-}\\delta_{xx}u_l^n$     "
   ]
  },
  {
   "cell_type": "markdown",
   "metadata": {},
   "source": [
    "**Step 1: Obtain** $\\delta_{t+} \\mathfrak{h}$\n",
    "\n",
    "Moving the right side of the previous equation to the left.\n",
    "\n",
    "$\\rho A \\delta_{tt}u_l^n + EI\\delta_{xxxx}u_l^n + 2\\sigma_0 \\rho A \\delta_{t\\cdot}u_l^n - 2\\sigma_1 \\rho A \\delta_{t-}\\delta_{xx}u_l^n= 0$\n",
    "\n",
    "Then take the inner product of the equation with $\\delta_{t\\cdot}u_l^n$ over the discrete domain $d$ to get $\\delta_{t+} {\\mathfrak{h}}$\n",
    "\n",
    "$\\delta_{t+} \\mathfrak{h} = \\rho A \\langle \\delta_{t\\cdot}u_l^n, \\delta_{tt}u_l^n \\rangle _d + EI \\langle \\delta_{t\\cdot}u_l^n, \\delta_{xxxx}u_l^n \\rangle _d + 2\\sigma_0 \\rho A \\langle \\delta_{t\\cdot}u_l^n, \\delta_{t\\cdot}u_l^n \\rangle _d - 2\\sigma_1 \\rho A \\langle \\delta_{t\\cdot}u_l^n, \\delta_{t-}\\delta_{xx}u_l^n \\rangle _d= 0$"
   ]
  },
  {
   "cell_type": "markdown",
   "metadata": {},
   "source": [
    "**Step 2: Identify energy types and isolate** $\\delta_{t+}$\n",
    "\n",
    "The system is distributed and has damping meaning that the energy balance will have the form:\n",
    "\n",
    "$\\delta_{t+} \\mathfrak{h} = \\mathfrak{b} - \\mathfrak{q}$\n",
    "\n",
    "With $\\mathfrak{b}$ denoting the boundary term and $\\mathfrak{q}$ denoting the damping. The damping relates to the terms with sigma, where the first term can be rewritten by its norm (Eq. 3.7) which results in:\n",
    "\n",
    "$\\mathfrak{q} = 2\\sigma_0 \\rho A \\| \\delta_{t\\cdot}u_l^n\\|_d^2 - 2 \\sigma_1 \\rho A \\langle \\delta_{t\\cdot}u_l^n, \\delta_{t-}\\delta_{xx}u_l^n \\rangle _d$\n",
    "\n",
    "From here we can then find the boundaries by using summation by parts (eq. 3.16b) on the term $EI \\langle \\delta_{t\\cdot}u_l^n, \\delta_{xxxx}u_l^n \\rangle _d$\n",
    "to get the following\n",
    "\n",
    "$\\delta_{t+} \\mathfrak{h} = \\rho A \\langle \\delta_{t\\cdot}u_l^n, \\delta_{tt}u_l^n \\rangle _d + EI \\langle \\delta_{t\\cdot}\\delta_{xx}u_l^n, \\delta_{xx}u_l^n \\rangle _{\\overline{\\underline{d}}} = \\mathfrak{b} -\\mathfrak{q}$\n",
    "\n",
    "where\n",
    "\n",
    "$\\mathfrak{b} = E I ( (\\delta_{t\\cdot}u_N^n)(\\delta_{x+}\\delta_{xx}u_N^n)-(\\delta_{xx}u_N^n)(\\delta_{x-}\\delta_{t\\cdot}u_N^n)-(\\delta_{t\\cdot}u_0^n)(\\delta_{x-}\\delta_{xx}u_0^n)-(\\delta_{xx}u_0^n)(\\delta_{x+}\\delta_{t\\cdot}u_0^n))$\n",
    "\n",
    "Bondaries can be shown to equal 0, as such the term can be removed. Following this we can use (eq. 3.17a) on the first term and (3.17b) on the second term\n",
    "\n",
    "$\\delta_{t+} \\mathfrak{h} = \\delta_{t+} ( \\frac{\\rho A}{2} \\| \\delta_{t-} u_l^n \\|_d^2 + \\frac{EI}{2} \\langle \\delta_{xx}u_l^n, e_{t-} \\delta_{xx}u_l^n \\rangle _{\\overline{\\underline{d}}}) = - \\mathfrak{q}$\n",
    "\n",
    "which lets us isolate $\\mathfrak{h}$ by removing $\\delta_{t+}$\n",
    "\n",
    "$\\mathfrak{h} =  \\frac{\\rho A}{2} \\| \\delta_{t-} u_l^n \\|_d^2 + \\frac{EI}{2} \\langle \\delta_{xx}u_l^n, e_{t-} \\delta_{xx}u_l^n \\rangle _{\\overline{\\underline{d}}} = \\mathfrak{t} + \\mathfrak{v}$\n",
    "\n",
    "where\n",
    "\n",
    "$\\mathfrak{t} = \\frac{\\rho A}{2} \\| \\delta_{t-} u_l^n \\|_d^2$\n",
    "\n",
    "and\n",
    "\n",
    "$\\mathfrak{v} = \\frac{EI}{2} \\langle \\delta_{xx}u_l^n, e_{t-} \\delta_{xx}u_l^n \\rangle _{\\overline{\\underline{d}}}$"
   ]
  },
  {
   "cell_type": "markdown",
   "metadata": {},
   "source": [
    "**Step 3: Check units**\n",
    "\n",
    "Is same as stiff string analysis in emulated ensemble"
   ]
  },
  {
   "cell_type": "markdown",
   "metadata": {},
   "source": [
    "**Step 4: Implementation**\n",
    "\n",
    "Matrix form implementation has the equation of \n",
    "\n",
    "$ \\bold{u}^{n+1} = \\frac{1}{A}(\\bold{Bu}^n + \\bold{Cu}^{n-1})$\n",
    "\n",
    "where\n",
    "\n",
    "$ A = (1 + \\sigma_0 k) \\qquad  \\bold{B} = 2 \\bold{I} - \\kappa^2 k^2 \\bold{D}_{xxxx} + 2\\sigma_1 k \\bold{D}_{xx} \\qquad  C = -(1-\\sigma_0 k)\\bold{I}-2\\sigma_1 k \\bold{D}_{xx}$\n",
    "\n",
    "Bold lower case indicates a vector and bold uppercase indicates matrix.\n"
   ]
  },
  {
   "cell_type": "code",
   "execution_count": 86,
   "metadata": {},
   "outputs": [
    {
     "data": {
      "image/png": "[encoded data removed]",
      "text/plain": [
       "<Figure size 640x480 with 3 Axes>"
      ]
     },
     "metadata": {},
     "output_type": "display_data"
    }
   ],
   "source": [
    "fs = 48000 #sample rate\n",
    "k = 1/fs #sampling Period\n",
    "\n",
    "lenSound = 100 #length of sound in samples\n",
    "\n",
    "L = 0.1564\n",
    "rho = 7850 #material Density\n",
    "r = 0.001905 / 2\n",
    "A = math.pi * r**2 #cross-sectinal area\n",
    "E = 2*10**11 #young's Modulus\n",
    "I = math.pi * r**4 / 4 #inertia\n",
    "\n",
    "kappa = math.sqrt((E*I)/(rho*A)) #stiffness coefficient\n",
    "\n",
    "sigma_1 = 0.05 #freq. dependent damping\n",
    "sigma_0 = 1.0 #freq. independent damping\n",
    "\n",
    "h = math.sqrt((4*sigma_1*k+math.sqrt((4*sigma_1*k)**2+16*kappa**2*k**2))/2)  #grid spacing based on stability condition\n",
    "\n",
    "N = int(L//h) #grid intervals\n",
    "\n",
    "h = L/N \n",
    "hSq = h**2\n",
    "\n",
    "mu = (kappa*k) / hSq\n",
    "muSq = mu**2\n",
    "\n",
    "Dxx = 1/h**2 * np.matrix(toeplitz(np.pad([-2, 1], (0, N+1-2))))\n",
    "\n",
    "Dxxxx = Dxx * Dxx\n",
    "\n",
    "Id = np.matrix(np.identity(N + 1))\n",
    "\n",
    "A = 1 + sigma_0 * k\n",
    "\n",
    "B = 2* Id - kappa**2 * k**2 * Dxxxx + 2*sigma_1*k*Dxx\n",
    "\n",
    "C = -(1-sigma_0*k) * Id - 2 * sigma_1 * k * Dxx\n",
    "\n",
    "uNext = np.matrix(np.zeros(N+1))\n",
    "u = np.matrix(np.zeros(N+1))\n",
    "\n",
    "loc = round(0.5 * N); # Center location\n",
    "halfWidth = round(N/10); # Half-width of raised cosine\n",
    "width = 2 * halfWidth; # Full width\n",
    "rcX = range(0,width); # x-locations for raised cosine\n",
    "rc = np.array([[0.5 - 0.5 * math.cos(2 * math.pi * x / width) for x in rcX]]) # raised cosine\n",
    "u[0,loc-halfWidth : loc+halfWidth] = rc[:] # initialise current state\n",
    "\n",
    "u = u.T\n",
    "uNext = uNext.T\n",
    "uPrev = np.matrix.copy(u)\n",
    "\n",
    "output = np.zeros(lenSound) #output vector\n",
    "\n",
    "potEnergy = np.zeros(lenSound)\n",
    "kinEnergy = np.zeros(lenSound)\n",
    "\n",
    "for i in range(0, lenSound):\n",
    "    \n",
    "    uNext = 1/A * (B * u + C * uPrev)\n",
    "    \n",
    "    output[i] = u[int(N/2), 0]\n",
    "    \n",
    "    \n",
    "    kinEnergy[i] = rho * A * h / 2 * np.sum(np.array(1/k * (u - uPrev))**2) # Do these change depending on boundary condition\n",
    "    potEnergy[i] = E * I * h / 2 * np.sum(np.array(Dxx * u) * np.array(Dxx * uPrev)) \n",
    "    \n",
    "    uPrev = np.matrix.copy(u)\n",
    "    u = np.matrix.copy(uNext)\n",
    "\n",
    "\n",
    "fig, (ax0, ax1, ax2) = plt.subplots(3)\n",
    "ax0.plot(potEnergy)\n",
    "ax1.plot(kinEnergy)\n",
    "ax2.plot(potEnergy + kinEnergy)\n",
    "plt.show()"
   ]
  },
  {
   "cell_type": "markdown",
   "metadata": {},
   "source": [
    "**Stability condition using energy analysis** Unsure how to solve this..\n",
    "\n",
    "Energy must be non-negative for the scheme to be stable.\n",
    "$\\mathfrak{t}$ is always positive due to being squared, so stability depends on $\\mathfrak{v}$\n",
    "\n",
    "We start by rewriting the equation as a sum of the product of the two functions (eq. 3.8)\n",
    "\n",
    "$\\mathfrak{v} =   \\frac{EI}{2} \\displaystyle\\sum_{l=1}^{N-1} h(\\delta_{xx}u_l^n)(e_{t-} \\delta_{xx}u_l^n) $\n",
    "\n",
    "Using (eq. 3.17f) this can be rewritten as\n",
    "\n",
    "$\\mathfrak{v} =   \\frac{EI}{2} \\displaystyle\\sum_{l=1}^{N-1} h\\Big((\\mu_{t-}\\delta_{xx}u_l^n)^2 - \\frac{k^2}{4}(\\delta_{t-} \\delta_{xx}u_l^n)^2\\Big) $\n",
    "\n",
    "We can then go back to an innner product using (eq. 3.8) again and from there to a norm using (eq. 3.7) to get\n",
    "\n",
    "$\\mathfrak{v} = \\frac{EI}{2} \\Big( \\| \\mu_{t-}\\delta_{xx}u_l^n \\|_{\\overline{\\underline{d}}}^2 - \\frac{k^2}{4} \\| \\delta_{t-} \\delta_{xx}u_l^n\\|_{\\overline{\\underline{d}}}^2   \\Big)$\n",
    "\n",
    "using [eq. 5.31] we can put a condition on $\\mathfrak{v}$\n",
    "\n",
    "$\\mathfrak{v} \\geq \\frac{EI}{2} \\Big( \\| \\mu_{t-}\\delta_{xx}u_l^n \\|_{\\overline{\\underline{d}}}^2 - \\frac{k^2}{4} \\big( \\frac{4}{h^2} \\| \\delta_{t-}u_l^n\\|_d \\big)^2 \\Big)$"
   ]
  },
  {
   "cell_type": "markdown",
   "metadata": {},
   "source": [
    "## Timoshenko Beam"
   ]
  },
  {
   "cell_type": "markdown",
   "metadata": {},
   "source": [
    "A two variable system calculating both displacement $u$ and rotation $\\Psi$\n",
    "\n",
    "$ \\delta_{tt}u_l^n = - \\frac{GK}{\\rho}(\\delta_{x\\cdot}\\Psi_l^n - \\delta_{xx}u_l^n) - 2\\sigma_0 \\delta_{t\\cdot}u_l^n + 2\\sigma_1 \\delta_{t-}\\delta_{xx}u_l^n$ $\n",
    "\n",
    "$ \\delta_{tt}\\Psi_l^n = \\frac{E}{\\rho}\\delta_{xx}\\Psi_l^n+\\frac{GAK}{\\rho I}(\\delta_{x\\cdot}u_l^n-\\Psi_l^n)$"
   ]
  },
  {
   "cell_type": "markdown",
   "metadata": {},
   "source": [
    "### Von Neumann Analysis"
   ]
  },
  {
   "cell_type": "markdown",
   "metadata": {},
   "source": [
    "Frequency domain representation of the scheme\n",
    "\n",
    "With $ \\gamma = \\frac{GK}{\\rho} $ and $\\epsilon = \\frac{I}{A}$\n",
    "\n",
    "$ \\frac{1}{k^2}(z-2+z^{-1}) = -\\gamma \\Big(\\frac{j}{h} sin(\\beta h) + \\frac{4}{h^2}sin^2(\\beta h/2) \\Big) - \\frac{2\\sigma_0}{2k}(z-z^{-1}) + 2\\frac{\\sigma_1}{k}(1-z^{-1}) (-\\frac{4}{h^2}sin^2(\\beta h/2)) $\n",
    "\n",
    "$ \\frac{1}{k^2}(z-2+z^{-1}) = - \\frac{\\gamma j}{h} sin(\\beta h) - \\frac{4\\gamma}{h^2}sin^2(\\beta h/2) - \\frac{\\sigma_0}{k}z + \\frac{\\sigma_0}{k}z^{-1} - \\frac{8\\sigma_1}{kh^2}sin^2(\\beta h/2) + \\frac{8\\sigma_1}{kh^2}sin^2(\\beta h /2)z^{-1} $"
   ]
  },
  {
   "cell_type": "markdown",
   "metadata": {},
   "source": [
    "Rewrite equations\n",
    "\n",
    "$ 0 = \\frac{1}{k^2}(z-2+z^{-1}) + \\frac{\\gamma j}{h} sin(\\beta h) + \\frac{4\\gamma}{h^2}sin^2(\\beta h/2) + \\frac{\\sigma_0}{k}z - \\frac{\\sigma_0}{k}z^{-1} + \\frac{8\\sigma_1}{kh^2}sin^2(\\beta h/2) - \\frac{8\\sigma_1}{kh^2}sin^2(\\beta h /2)z^{-1} $"
   ]
  },
  {
   "cell_type": "markdown",
   "metadata": {},
   "source": [
    "Multiply all terms by $k^2$\n",
    "\n",
    "$ 0 = z-2+z^{-1} + \\frac{\\gamma j k^2}{h} sin(\\beta h) + \\frac{4\\gamma k^2}{h^2}sin^2(\\beta h/2) + (\\sigma_0 k)z - (\\sigma_0 k)z^{-1} + \\frac{8\\sigma_1 k}{h^2}sin^2(\\beta h/2) - \\frac{8\\sigma_1 k}{h^2}sin^2(\\beta h /2)z^{-1}$"
   ]
  },
  {
   "cell_type": "markdown",
   "metadata": {},
   "source": [
    "Collect terms to form characteristic equation\n",
    "\n",
    "$ 0 = z(1 + \\sigma_0 k) + \\Big( \\frac{\\gamma j k^2}{h} sin(\\beta h) + \\frac{4\\gamma k^2}{h^2}sin^2(\\beta h/2) + \\frac{8\\sigma_1 k}{h^2}sin^2(\\beta h/2) - 2 \\Big) + z^{-1} \\Big(1 - \\sigma_0 k - \\frac{8\\sigma_1 k}{h^2}sin^2(\\beta h /2)\\Big) $"
   ]
  },
  {
   "cell_type": "markdown",
   "metadata": {},
   "source": [
    "Following same methodology for the rotation equation\n",
    "\n",
    "$ \\frac{1}{k^2}(z-2+z^{-1}) = - \\frac{E4}{\\rho h^2} sin^2(\\beta h/2) + \\frac{\\gamma}{\\epsilon}(\\frac{j}{h}sin(\\beta h) - 1)$"
   ]
  },
  {
   "cell_type": "markdown",
   "metadata": {},
   "source": [
    "Rewrite equations\n",
    "\n",
    "$ 0 = \\frac{1}{k^2}(z-2+z^{-1}) + \\frac{E4}{\\rho h^2} sin^2(\\beta h/2) - \\frac{\\gamma}{\\epsilon} (\\frac{j}{h}sin(\\beta h) - 1)$"
   ]
  },
  {
   "cell_type": "markdown",
   "metadata": {},
   "source": [
    "Multiply all terms by $k^2$\n",
    "\n",
    "$ 0 = (z-2+z^{-1}) + \\frac{\\epsilon E4k^2}{\\rho h^2} sin^2(\\beta h/2) - \\frac{\\gamma k^2}{\\epsilon}(\\frac{j}{h}sin(\\beta h) - 1)$"
   ]
  },
  {
   "cell_type": "markdown",
   "metadata": {},
   "source": [
    "Collect terms to form characteristic equation\n",
    "\n",
    "$ 0 = z + \\Big(\\frac{E4k^2}{\\rho h^2} sin^2(\\beta h/2) - \\frac{\\gamma k^2}{\\epsilon}(\\frac{j}{h}sin(\\beta h) - 1) - 2 \\Big) + z^{-1} $"
   ]
  },
  {
   "cell_type": "markdown",
   "metadata": {},
   "source": [
    "Now what...."
   ]
  },
  {
   "cell_type": "code",
   "execution_count": 2,
   "metadata": {},
   "outputs": [
    {
     "data": {
      "text/plain": [
       "0.06996501599678723"
      ]
     },
     "execution_count": 2,
     "metadata": {},
     "output_type": "execute_result"
    }
   ],
   "source": [
    "import math\n",
    "\n",
    "f = 440\n",
    "\n",
    "r = 1.524 * 10 **-3\n",
    "rho = 7850 #material Density\n",
    "E = 2*10**11 #young's Modulus\n",
    "\n",
    "kappa = math.sqrt(E/rho)\n",
    "\n",
    "K = r/2\n",
    "\n",
    "L= math.sqrt(((1.426*math.pi*K*kappa)/f)/8)\n",
    "L"
   ]
  }
 ],
 "metadata": {
  "kernelspec": {
   "display_name": "base",
   "language": "python",
   "name": "python3"
  },
  "language_info": {
   "codemirror_mode": {
    "name": "ipython",
    "version": 3
   },
   "file_extension": ".py",
   "mimetype": "text/x-python",
   "name": "python",
   "nbconvert_exporter": "python",
   "pygments_lexer": "ipython3",
   "version": "3.9.18"
  }
 },
 "nbformat": 4,
 "nbformat_minor": 2
}
