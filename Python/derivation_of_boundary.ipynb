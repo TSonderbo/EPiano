{
 "cells": [
  {
   "cell_type": "markdown",
   "metadata": {},
   "source": [
    "### Derivation of free boundary update equations based on matrix form implementation"
   ]
  },
  {
   "cell_type": "markdown",
   "metadata": {},
   "source": [
    "We are interested in the final two rows of the matrices for both $D_{xx}$ and $D_{xxxx}$ or in other words row number $N-1$ and $N$\n",
    "\n",
    "For a free boundary condition these will have the form:\n",
    "\n",
    "$D_{xx}[N-1,:] = \\frac{1}{h^2}[0, 0, ..., 1, -2, 1]$\n",
    "\n",
    "$D_{xx}[N,:] = \\frac{1}{h^2}[0, 0, ..., 0, 2, -2]$\n",
    "\n",
    "$D_{xxxx}[N-1,:] = \\frac{1}{h^4}[0, 0, ..., 1, -4, 5, -2]$\n",
    "\n",
    "$D_{xxxx}[N,:] = \\frac{1}{h^4}[0, 0, ..., 0, 2, -4, 2]$\n",
    "\n",
    "for the range $\\{ 0, 1, ..., N-1, N \\}$"
   ]
  },
  {
   "cell_type": "markdown",
   "metadata": {},
   "source": [
    "We then substitute this into the following equation\n",
    "\n",
    "$\\bold{u}^{n+1} = \\frac{1}{A}(\\bold{Bu}^n + \\bold{Cu}^{n-1})$\n",
    "\n",
    "where\n",
    "\n",
    "$ A = (1 + \\sigma_0 k) \\qquad  \\bold{B} = 2 \\bold{I} - \\kappa^2 k^2 \\bold{D}_{xxxx} + 2\\sigma_1 k \\bold{D}_{xx} \\qquad  C = -(1-\\sigma_0 k)\\bold{I}-2\\sigma_1 k \\bold{D}_{xx}$"
   ]
  },
  {
   "cell_type": "markdown",
   "metadata": {},
   "source": [
    "Given that the rows for $D_{xx}$ and $D_{xxxx}$ contain zeroes up until the final set of elements, we can simplify the update equation as\n",
    "\n",
    "$ u_{N-1}^{n+1} = \\frac{1}{1+\\sigma_0 k} \\Big(2u_{N-1}^n - \\frac{\\kappa^2k^2}{h^4}(u_{N-3}^n - 4u_{n-2}^n + 5u_{N-1}^n - 2u_N^n) + \\frac{2\\sigma_1 k}{h^2}(u_{N-2}^n - 2u_{N-1}^n + u_N^n) - u_{N-1}^{n-1}(1 - \\sigma_0 k) - \\frac{2\\sigma_1 k}{h^2}(u_{N-2}^{n-1} - 2u_{N-1}^{n-1} + u_N^{n-1})  \\Big)$"
   ]
  },
  {
   "cell_type": "markdown",
   "metadata": {},
   "source": [
    "Collecting the terms and using $\\mu = \\frac{\\kappa k}{h^2}$\n",
    "\n",
    "$u_{N-1}^{n+1} = \\frac{1}{1+\\sigma_0 k} \\Big( (2 - 5\\mu^2 - \\frac{4\\sigma_1 k}{h^2}) u_{N-1}^n + (\\frac{2\\sigma_1 k}{h^2} -2\\mu^2)u_N^n + (4\\mu^2 + \\frac{2\\sigma_1 k}{h^2}) u_{N-2}^n - \\mu^2u_{N-3}^n + (-1 + \\sigma_0 k + \\frac{4\\sigma_1 k}{h^2})u_{N-1}^{n-1} - \\frac{1\\sigma_1 k}{h^2}(u_{N-2}^{n-1} + u_N^{n-1}) \\Big)$"
   ]
  },
  {
   "cell_type": "markdown",
   "metadata": {},
   "source": [
    "Following same methodology $u_N^{n+1}$ can be derived as\n",
    "\n",
    "$u_N^{n+1} = \\frac{1}{1+\\sigma_0 k} \\Big( 2u_N^n - \\frac{\\kappa^2k^2}{h^4}(2u_{N-2}^n - 4u_{N-1}^n + 2u_N^n) + \\frac{2\\sigma_1 k}{h^2}(2u_{N-1}^n - 2u_N^n) - (1-\\sigma_0 k)u_N^{n-1} - \\frac{2\\sigma_1 k}{h^2}(2u_{N-1}^{n-1} - 2u_N^{n-1}) \\Big)$"
   ]
  },
  {
   "cell_type": "markdown",
   "metadata": {},
   "source": [
    "Collecting the terms and using $\\mu = \\frac{\\kappa k}{h^2}$\n",
    "\n",
    "$ u_N^{n+1} = \\frac{1}{1+\\sigma_0 k} \\Big( (2 - 2\\mu^2 - \\frac{4\\sigma_1 k}{h^2})u_N^n + (4\\mu^2 + \\frac{4\\sigma_1 k}{h^2})u_{N-1}^n - 2\\mu^2u_{N-2}^n + (-1 + \\sigma_0 k + \\frac{4\\sigma_1 k}{h^2})u_{N}^{n-1} - \\frac{4\\sigma_1 k}{h^2}u_{N-1}^{n-1} \\Big)$"
   ]
  }
 ],
 "metadata": {
  "language_info": {
   "name": "python"
  }
 },
 "nbformat": 4,
 "nbformat_minor": 2
}
