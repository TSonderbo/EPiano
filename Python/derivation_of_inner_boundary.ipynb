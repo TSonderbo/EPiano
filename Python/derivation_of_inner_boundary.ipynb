{
 "cells": [
  {
   "cell_type": "markdown",
   "metadata": {},
   "source": [
    "### Derivation of free boundary update equations based on matrix form implementation"
   ]
  },
  {
   "cell_type": "markdown",
   "metadata": {},
   "source": [
    "We are interested in the center 4 rows of the matrices for both $D_{xx}$ and $D_{xxxx}$ or in other words row number $M_u-1$, $M_u$ and $M_w$, $M_w+1$\n",
    "\n",
    "For grid $u$ These will have the form:\n",
    "\n",
    "$D_{xx}[M_u-1,:] = \\frac{1}{h^2}[0, 0, ..., 1, -2, 1, 0, 0]$\n",
    "\n",
    "$D_{xx}[M_u,:] = \\frac{1}{h^2}[0, 0, ...,0, 1, \\mathcal{I}-2, 1, -\\mathcal{I}]$\n",
    "\n",
    "for the range $\\{ 0, 1, ...,M_u - 2, M_u - 1, M_u, w_0, w_1\\}$\n",
    "\n",
    "$D_{xxxx}[M_u-1,:] = \\frac{1}{h^4}[0, 0, ..., 1, -4, 6, \\mathfrak{J}_1, 1, \\mathfrak{J}_3]$\n",
    "\n",
    "$D_{xxxx}[M_u,:] = \\frac{1}{h^4}[0, 0, ..., 1, -4, \\mathfrak{J}_0, \\mathfrak{J}_1, \\mathfrak{J}_2, \\mathfrak{J}_3,]$\n",
    "\n",
    "for the range $\\{ 0, 1, ...,M_u - 2, M_u - 1, M_u, w_0, w_1, w_2\\}$\n",
    "\n",
    "with\n",
    "\n",
    "$\\mathcal{I} = \\frac{\\alpha - 1}{\\alpha + 1}$\n",
    "\n",
    "and \n",
    "\n",
    "$\\mathfrak{J}_0 = \\mathcal{I}^2 - 4 \\mathcal{I} + 6$\n",
    "\n",
    "$\\mathfrak{J}_1 = \\mathcal{I} - 4$\n",
    "\n",
    "$\\mathfrak{J}_2 = -\\mathcal{I}^2 + 4 \\mathcal{I} + 1$\n",
    "\n",
    "$\\mathfrak{J}_3 = - \\mathcal{I}$"
   ]
  },
  {
   "cell_type": "markdown",
   "metadata": {},
   "source": [
    "We then substitute this into the following equation\n",
    "\n",
    "$\\bold{u}^{n+1} = \\frac{1}{A}(\\bold{Bu}^n + \\bold{Cu}^{n-1})$\n",
    "\n",
    "where\n",
    "\n",
    "$ A = (1 + \\sigma_0 k) \\qquad  \\bold{B} = 2 \\bold{I} - \\kappa^2 k^2 \\bold{D}_{xxxx} + 2\\sigma_1 k \\bold{D}_{xx} \\qquad  C = -(1-\\sigma_0 k)\\bold{I}-2\\sigma_1 k \\bold{D}_{xx}$"
   ]
  },
  {
   "cell_type": "markdown",
   "metadata": {},
   "source": [
    "Given that the rows for $D_{xx}$ and $D_{xxxx}$ contain zeroes up until the final set of elements, we can simplify the update equation as\n",
    "\n",
    "$ u_{N-1}^{n+1} = \\frac{1}{1+\\sigma_0 k} \\Big(2u_{M_u - 1}^n - \\frac{\\kappa^2k^2}{h^4}(-4u_{M_u - 2} + 6 u_{M_u - 1} + \\mathfrak{J}_1 u_{M_u} + w_{0} + \\mathfrak{J}_3 u_{M_u}) + \\frac{2\\sigma_1 k}{h^2}(u_{M_u-2}^n - 2u_{M_u-1}^n + u_{M_u}^n) - u_{M_u-1}^{n-1}(1 - \\sigma_0 k) - \\frac{2\\sigma_1 k}{h^2}(u_{M_u-2}^{n-1} - 2u_{M_u-1}^{n-1} + u_{M_u}^{n-1})  \\Big)$"
   ]
  },
  {
   "cell_type": "markdown",
   "metadata": {},
   "source": [
    "Collecting the terms and using $\\mu = \\frac{\\kappa k}{h^2}$\n",
    "\n",
    "$u_{N-1}^{n+1} = \\frac{1}{1+\\sigma_0 k} \\Big( (2 - 6\\mu^2 - \\frac{4\\sigma_1 k}{h^2}) u_{M_u - 1}^n + (-\\mathfrak{J_1}\\mu^2 + \\frac{2\\sigma_1 k}{h^2})u_{M_u}^n + (4\\mu^2 + \\frac{2\\sigma_1 k}{h^2}) u_{M_u-2}^n - \\mu^2w_{0}^n - \\mathfrak{J}_3\\mu^2w_1^n + (-1 + \\sigma_0 k + \\frac{4\\sigma_1 k}{h^2})u_{M_u-1}^{n-1} - \\frac{2\\sigma_1 k}{h^2}(u_{M_u-2}^{n-1} + u_{M_u}^{n-1}) \\Big)$"
   ]
  },
  {
   "cell_type": "markdown",
   "metadata": {},
   "source": [
    "Following same methodology $u_{M_u}^{n+1}$ can be derived as\n",
    "\n",
    "$u_N^{n+1} = \\frac{1}{1+\\sigma_0 k} \\Big( 2u_{M_u}^n - \\frac{\\kappa^2k^2}{h^4}(u_{M_u-2}^n - 4u_{M_u-1}^n + \\mathfrak{J}_0 u_{M_u}^n + \\mathfrak{J}_1 w_{0}^n + \\mathfrak{J}_2 w_{1}^n + \\mathfrak{J}_3 w_{2}^n) + \\frac{2\\sigma_1 k}{h^2}(u_{M_u - 1}^n + (\\mathcal{I} - 2)u_{M_u}^n + w_0^n + -\\mathcal{I}w_1^n) - (1-\\sigma_0 k)u_{M_u}^{n-1} - \\frac{2\\sigma_1 k}{h^2}(u_{M_u - 1}^{n-1} + (\\mathcal{I} - 2)u_{M_u}^{n-1} + w_0^{n-1} + -\\mathcal{I}w_1^{n-1}) \\Big)$"
   ]
  },
  {
   "cell_type": "markdown",
   "metadata": {},
   "source": [
    "Collecting the terms and using $\\mu = \\frac{\\kappa k}{h^2}$\n",
    "\n",
    "$ u_N^{n+1} = \\frac{1}{1+\\sigma_0 k} \\Big( (2 - 2\\mu^2 - \\frac{4\\sigma_1 k}{h^2})u_N^n + (4\\mu^2 + \\frac{4\\sigma_1 k}{h^2})u_{N-1}^n - 2\\mu^2u_{N-2}^n + (-1 + \\sigma_0 k + \\frac{4\\sigma_1 k}{h^2})u_{N}^{n-1} - \\frac{4\\sigma_1 k}{h^2}u_{N-1}^{n-1} \\Big)$"
   ]
  }
 ],
 "metadata": {
  "language_info": {
   "name": "python"
  }
 },
 "nbformat": 4,
 "nbformat_minor": 2
}
