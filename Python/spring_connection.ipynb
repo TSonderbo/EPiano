{
 "cells": [
  {
   "cell_type": "markdown",
   "metadata": {},
   "source": [
    "The damped spring connection can be simplified as the tine is simply connected to its equilibrium.\n",
    "This reduces equation 11.49 to just the first term. Substituting $\\eta^{n+1}$ with eq 11.50 yields:"
   ]
  },
  {
   "cell_type": "markdown",
   "metadata": {},
   "source": [
    "\\begin{equation}\n",
    "\n",
    "    \\frac{f^n}{r_+^n} - \\frac{K_1}{2r_+^n}\\eta^n - \\frac{r_-^n}{r_+^n}\\eta^{n-1} =\n",
    "    u^\\star - \\frac{k^2 f^n}{h \\rho A (1 + \\sigma_0 k)}\n",
    "\n",
    "\\end{equation}"
   ]
  },
  {
   "cell_type": "markdown",
   "metadata": {},
   "source": [
    "Solving for $f^n$ yields:"
   ]
  },
  {
   "cell_type": "markdown",
   "metadata": {},
   "source": [
    "\\begin{equation}\n",
    "\n",
    "    f^n =\n",
    "    u^\\star - \\frac{k^2 f^n}{h \\rho A (1 + \\sigma_0 k)} + \\frac{K_1}{2r_+^n}\\eta^n + \\frac{r_-^n}{r_+^n}\\eta^{n-1} / \\frac{1}{r_+^n}\n",
    "\n",
    "\\end{equation}"
   ]
  },
  {
   "cell_type": "markdown",
   "metadata": {},
   "source": [
    "\\begin{equation}\n",
    "\n",
    "    f^n + \\frac{k^2 f^n}{h \\rho A (1 + \\sigma_0 k)} =\n",
    "    u^\\star + \\frac{K_1}{2r_+^n}\\eta^n + \\frac{r_-^n}{r_+^n}\\eta^{n-1} / \\frac{1}{r_+^n}\n",
    "\n",
    "\\end{equation}"
   ]
  },
  {
   "cell_type": "markdown",
   "metadata": {},
   "source": [
    "\\begin{equation}\n",
    "\n",
    "    2 f^n =\n",
    "     \\frac{u^\\star +\\frac{K_1}{2r_+^n}\\eta^n + \\frac{r_-^n}{r_+^n}\\eta^{n-1}}{\\frac{1}{r_+^n} + \\frac{k^2}{h \\rho A (1 + \\sigma_0 k)}}\n",
    "\n",
    "\\end{equation}"
   ]
  },
  {
   "cell_type": "markdown",
   "metadata": {},
   "source": [
    "\\begin{equation}\n",
    "\n",
    "    f^n =\n",
    "     \\frac{1}{2} \\cdot \\frac{u^\\star +\\frac{K_1}{2r_+^n}\\eta^n + \\frac{r_-^n}{r_+^n}\\eta^{n-1}}{\\frac{1}{r_+^n} + \\frac{k^2}{h \\rho A (1 + \\sigma_0 k)}} \n",
    "\n",
    "\\end{equation}"
   ]
  }
 ],
 "metadata": {
  "language_info": {
   "name": "python"
  }
 },
 "nbformat": 4,
 "nbformat_minor": 2
}
